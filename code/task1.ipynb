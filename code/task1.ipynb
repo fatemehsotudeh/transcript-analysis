{
 "cells": [
  {
   "cell_type": "markdown",
   "id": "e7583062",
   "metadata": {},
   "source": [
    "   # find the body, start and end time of each story in the news show"
   ]
  },
  {
   "cell_type": "markdown",
   "id": "9c8f290f",
   "metadata": {},
   "source": [
    "______________________________________________________________________"
   ]
  },
  {
   "cell_type": "markdown",
   "id": "7c4ff57b",
   "metadata": {},
   "source": [
    "## 1- Import libraries"
   ]
  },
  {
   "cell_type": "code",
   "execution_count": 1,
   "id": "d46b8887",
   "metadata": {},
   "outputs": [],
   "source": [
    "import numpy as np\n",
    "import pandas as pd\n",
    "import os, json\n",
    "import re"
   ]
  },
  {
   "cell_type": "markdown",
   "id": "51f3d57c",
   "metadata": {},
   "source": [
    "## 2- Write the required functions"
   ]
  },
  {
   "cell_type": "code",
   "execution_count": 2,
   "id": "28a8d54e",
   "metadata": {},
   "outputs": [],
   "source": [
    "def read_json_files(path_to_json_files = '../data'):\n",
    "    #get all JSON file names as a list\n",
    "    json_file_names = [filename for filename in os.listdir(path_to_json_files) if filename.endswith('.json')]\n",
    "\n",
    "    json_text={}\n",
    "    for json_file_name in json_file_names:\n",
    "        with open(os.path.join(path_to_json_files, json_file_name)) as json_file:\n",
    "            json_text[json_file_name[:json_file_name.find('.')]] = json.load(json_file)\n",
    "    \n",
    "    return json_text"
   ]
  },
  {
   "cell_type": "code",
   "execution_count": 3,
   "id": "4210c27e",
   "metadata": {},
   "outputs": [],
   "source": [
    "def find_index(string,words):\n",
    "    match= re.search(words,string)\n",
    "    if match:\n",
    "         return {\n",
    "        'start_index':match.start(),\n",
    "        'end_index':match.end()\n",
    "        }\n",
    "    else:\n",
    "        return False"
   ]
  },
  {
   "cell_type": "code",
   "execution_count": 4,
   "id": "2e3ac0cf",
   "metadata": {},
   "outputs": [],
   "source": [
    "def extract_text(string,start_index,end_index):\n",
    "    return string[start_index:end_index]"
   ]
  },
  {
   "cell_type": "code",
   "execution_count": 5,
   "id": "28d655d0",
   "metadata": {},
   "outputs": [],
   "source": [
    "def add_columns(df, col_names,values):\n",
    "    for i in range(len(col_names)):\n",
    "        if col_names[i] not in df.columns:\n",
    "            df[col_names[i]]=values[i]\n",
    "\n",
    "    return df"
   ]
  },
  {
   "cell_type": "code",
   "execution_count": 6,
   "id": "00d61029",
   "metadata": {},
   "outputs": [],
   "source": [
    "def count_words(string):\n",
    "    return len(string.split(' '))"
   ]
  },
  {
   "cell_type": "markdown",
   "id": "76ee1a3e",
   "metadata": {},
   "source": [
    "## 3- Load the datas"
   ]
  },
  {
   "cell_type": "code",
   "execution_count": 7,
   "id": "1d71b313",
   "metadata": {},
   "outputs": [],
   "source": [
    "# read transcription file of news shows \n",
    "news=read_json_files()"
   ]
  },
  {
   "cell_type": "code",
   "execution_count": 8,
   "id": "b0fbd5ba",
   "metadata": {},
   "outputs": [],
   "source": [
    "to_fill_path='../data/to_fill.csv'\n",
    "df=pd.read_csv(to_fill_path)"
   ]
  },
  {
   "cell_type": "markdown",
   "id": "c7b6408f",
   "metadata": {},
   "source": [
    "## 4- extract the body,start and end time"
   ]
  },
  {
   "cell_type": "code",
   "execution_count": 9,
   "id": "8e932962",
   "metadata": {},
   "outputs": [],
   "source": [
    "bodies, start_times, end_times=([] for i in range(3))\n",
    "\n",
    "for index,row in df.iterrows():\n",
    "    body=start_time=end_time=''\n",
    "    \n",
    "    video_id=str(row['source_video_id'])\n",
    "    video_text=news[video_id]['text']\n",
    "    \n",
    "    if ((first_words:=find_index(video_text,row['first_words'])) and (last_words:=find_index(video_text,row['last_words']))):\n",
    "        start_index, end_index= first_words['start_index'], last_words['end_index']\n",
    "        body=extract_text(video_text,start_index,end_index)\n",
    "        start_time=news[video_id]['words'][count_words(video_text[:start_index-1])]['start']\n",
    "        end_time=news[video_id]['words'][count_words(video_text[:end_index])-1]['end']               \n",
    "    else:\n",
    "        body=start_time=end_time='Not found'                                       \n",
    "        \n",
    "    bodies.append(body)\n",
    "    start_times.append(start_time)\n",
    "    end_times.append(end_time)                                               "
   ]
  },
  {
   "cell_type": "markdown",
   "id": "4b51b5a0",
   "metadata": {},
   "source": [
    "## 5- add 3 column(body,start,end) to dataframe"
   ]
  },
  {
   "cell_type": "code",
   "execution_count": 10,
   "id": "bdf87793",
   "metadata": {},
   "outputs": [],
   "source": [
    "df=add_columns(df,['body','start','end'],[bodies,start_times,end_times])"
   ]
  },
  {
   "cell_type": "markdown",
   "id": "bf845cd6",
   "metadata": {},
   "source": [
    "## 6- convert dataframe to csv"
   ]
  },
  {
   "cell_type": "code",
   "execution_count": 11,
   "id": "d12efc2f",
   "metadata": {},
   "outputs": [],
   "source": [
    "df.to_csv(to_fill_path,index=False)"
   ]
  },
  {
   "cell_type": "code",
   "execution_count": null,
   "id": "6a97de37",
   "metadata": {},
   "outputs": [],
   "source": []
  }
 ],
 "metadata": {
  "kernelspec": {
   "display_name": "Python 3 (ipykernel)",
   "language": "python",
   "name": "python3"
  },
  "language_info": {
   "codemirror_mode": {
    "name": "ipython",
    "version": 3
   },
   "file_extension": ".py",
   "mimetype": "text/x-python",
   "name": "python",
   "nbconvert_exporter": "python",
   "pygments_lexer": "ipython3",
   "version": "3.8.0"
  }
 },
 "nbformat": 4,
 "nbformat_minor": 5
}
